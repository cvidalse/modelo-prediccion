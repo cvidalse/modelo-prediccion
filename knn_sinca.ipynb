{
  "nbformat": 4,
  "nbformat_minor": 0,
  "metadata": {
    "colab": {
      "name": "knn-sinca.ipynb",
      "provenance": [],
      "collapsed_sections": [],
      "include_colab_link": true
    },
    "kernelspec": {
      "name": "python3",
      "display_name": "Python 3"
    }
  },
  "cells": [
    {
      "cell_type": "markdown",
      "metadata": {
        "id": "view-in-github",
        "colab_type": "text"
      },
      "source": [
        "<a href=\"https://colab.research.google.com/github/cvidalse/modelo-prediccion/blob/master/knn_sinca.ipynb\" target=\"_parent\"><img src=\"https://colab.research.google.com/assets/colab-badge.svg\" alt=\"Open In Colab\"/></a>"
      ]
    },
    {
      "cell_type": "code",
      "metadata": {
        "id": "WyzuMXhwZHrh",
        "colab_type": "code",
        "colab": {
          "base_uri": "https://localhost:8080/",
          "height": 69
        },
        "outputId": "13979c9e-5d39-447a-fe47-35a802cd9b39"
      },
      "source": [
        "import pandas as pd\n",
        "import numpy as np\n",
        "from sklearn.model_selection import train_test_split\n",
        "from sklearn import preprocessing\n",
        "from sklearn.neighbors import KNeighborsClassifier\n",
        "\n",
        "data = pd.read_csv(\"https://raw.githubusercontent.com/cvidalse/modelo-prediccion/master/data_exp.csv\",parse_dates=['Fecha'])\n",
        "def modelo_prediccion(data):\n",
        "  X=data.drop(columns=['Fecha', 'PM2.5'])\n",
        "  y=data['PM2.5']\n",
        "  X_train, X_test, y_train, y_test = train_test_split(X, y,test_size=0.2,random_state=4)\n",
        "  knn = KNeighborsClassifier(n_neighbors=3)#parametro n_neighbors cantidad de vecinos a utilizar\n",
        "  knn.fit(X_train, y_train)#fit entrena el modelo con los valores X_train y y_train\n",
        "  return knn"
      ],
      "execution_count": 6,
      "outputs": [
        {
          "output_type": "execute_result",
          "data": {
            "text/plain": [
              "KNeighborsClassifier(algorithm='auto', leaf_size=30, metric='minkowski',\n",
              "                     metric_params=None, n_jobs=None, n_neighbors=3, p=2,\n",
              "                     weights='uniform')"
            ]
          },
          "metadata": {
            "tags": []
          },
          "execution_count": 6
        }
      ]
    }
  ]
}